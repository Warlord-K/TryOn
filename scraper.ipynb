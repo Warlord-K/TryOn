{
 "cells": [
  {
   "cell_type": "code",
   "execution_count": 46,
   "metadata": {},
   "outputs": [],
   "source": [
    "URL = \"https://www.amazon.in/ManQ-Blended-Blazer-Black-BL-101-42/dp/B017NU6NGO/ref=sr_1_10?crid=3B4XTZH14HBWK&keywords=coat&qid=1687707928&sprefix=coat%2Caps%2C325&sr=8-10\""
   ]
  },
  {
   "cell_type": "code",
   "execution_count": 32,
   "metadata": {},
   "outputs": [
    {
     "name": "stderr",
     "output_type": "stream",
     "text": [
      "c:\\Users\\Asus\\miniconda3\\envs\\deep\\lib\\site-packages\\urllib3\\connectionpool.py:1045: InsecureRequestWarning: Unverified HTTPS request is being made to host 'www.amazon.in'. Adding certificate verification is strongly advised. See: https://urllib3.readthedocs.io/en/1.26.x/advanced-usage.html#ssl-warnings\n",
      "  warnings.warn(\n"
     ]
    }
   ],
   "source": [
    "import requests, json\n",
    "from bs4 import BeautifulSoup"
   ]
  },
  {
   "cell_type": "code",
   "execution_count": 3,
   "metadata": {},
   "outputs": [],
   "source": [
    "def extract_link_flipkart(url):\n",
    "    r = requests.get(url)\n",
    "    soup = BeautifulSoup(r.content)\n",
    "    return soup.find_all(\"img\", {\"class\": \"_2r_T1I _396QI4\"})[0]['src']"
   ]
  },
  {
   "cell_type": "code",
   "execution_count": 4,
   "metadata": {},
   "outputs": [],
   "source": [
    "def extract_link_myntra(url):\n",
    "    headers = {'User-Agent' : 'Mozilla/5.0 (Macintosh; Intel Mac OS X 10_14_5) AppleWebKit/537.36 (KHTML, like Gecko) Chrome/84.0.4147.89 Safari/537.36'}\n",
    "\n",
    "    s = requests.Session()\n",
    "    res = s.get(url, headers=headers, verify=False)\n",
    "\n",
    "    soup = BeautifulSoup(res.text, \"lxml\")\n",
    "\n",
    "    script = None\n",
    "    for s in soup.find_all(\"script\"):\n",
    "        if 'pdpData' in s.text:\n",
    "            script = s.get_text(strip=True)\n",
    "            break\n",
    "    data = json.loads(script[script.index('{'):])\n",
    "    try:\n",
    "        link = data['pdpData']['colours'][0]['image']\n",
    "    except TypeError as e:\n",
    "        link = data['pdpData'][\"media\"]['albums'][0]['images'][0]['imageURL']\n",
    "    return link"
   ]
  },
  {
   "cell_type": "code",
   "execution_count": 105,
   "metadata": {},
   "outputs": [],
   "source": [
    "from selenium import webdriver\n",
    "from selenium.webdriver.chrome.options import Options\n",
    "def extract_link_amazon(url):\n",
    "    DRIVER_PATH = \"E:\\Setups\\chromedriver_win32\\chromedriver.exe\" #Change for your computer\n",
    "    options = Options()\n",
    "    options.headless = True\n",
    "    options.add_argument(\"--window-size=1920,1200\")\n",
    "    driver = webdriver.Chrome(options=options, executable_path=DRIVER_PATH)\n",
    "    driver.get(url)\n",
    "    soup = BeautifulSoup(driver.page_source,\"html5lib\")\n",
    "    return soup.findAll(\"img\", {\"class\": \"a-dynamic-image a-stretch-horizontal\"})[0]['src']"
   ]
  },
  {
   "cell_type": "code",
   "execution_count": 65,
   "metadata": {},
   "outputs": [],
   "source": [
    "headers = {'User-Agent' : 'Mozilla/5.0 (Macintosh; Intel Mac OS X 10_14_5) AppleWebKit/537.36 (KHTML, like Gecko) Chrome/84.0.4147.89 Safari/537.36', 'Accept-Language': 'en-US, en;q=0.5'}\n",
    "\n",
    "webpage = requests.get(URL, headers=headers)\n",
    "\n",
    "# Creating the Soup Object containing all data\n",
    "soup = BeautifulSoup(webpage.content, \"lxml\")"
   ]
  },
  {
   "cell_type": "code",
   "execution_count": 81,
   "metadata": {},
   "outputs": [],
   "source": [
    "URL = r\"https://www.amazon.in/ManQ-Blended-Blazer-Black-BL-101-42/dp/B017NU6NGO/ref=sr_1_10?crid=3B4XTZH14HBWK&keywords=coat&qid=1687707928&sprefix=coat%2Caps%2C325&sr=8-10\""
   ]
  },
  {
   "cell_type": "code",
   "execution_count": 82,
   "metadata": {},
   "outputs": [],
   "source": [
    "from bs4 import BeautifulSoup\n",
    "import requests\n",
    " \n",
    "# URL = 'https://www.amazon.com/dp/B0B3BVWJ6Y/'\n",
    "HEADERS = ({\n",
    "    'User-Agent': 'Mozilla/5.0 (X11; Linux x86_64) AppleWebKit / 537.36(KHTML, like Gecko) Chrome / 44.0.2403.157 Safari / 537.36',\n",
    "    'Accept-Language': 'en-US, en;q=0.5'})\n",
    " \n",
    "webpage = requests.get(URL, headers=HEADERS)\n",
    "soup = BeautifulSoup(webpage.content, \"lxml\")"
   ]
  },
  {
   "cell_type": "code",
   "execution_count": 89,
   "metadata": {},
   "outputs": [
    {
     "data": {
      "text/plain": [
       "[]"
      ]
     },
     "execution_count": 89,
     "metadata": {},
     "output_type": "execute_result"
    }
   ],
   "source": [
    "doc.find_all(\"img\", {\"id\": \"landingImage\"})[0]['src']"
   ]
  },
  {
   "cell_type": "code",
   "execution_count": 95,
   "metadata": {},
   "outputs": [
    {
     "name": "stderr",
     "output_type": "stream",
     "text": [
      "C:\\Users\\Asus\\AppData\\Local\\Temp\\ipykernel_15368\\2524900253.py:6: DeprecationWarning: headless property is deprecated, instead use add_argument('--headless') or add_argument('--headless=new')\n",
      "  options.headless = True\n",
      "C:\\Users\\Asus\\AppData\\Local\\Temp\\ipykernel_15368\\2524900253.py:8: DeprecationWarning: executable_path has been deprecated, please pass in a Service object\n",
      "  driver = webdriver.Chrome(options=options, executable_path=DRIVER_PATH)\n"
     ]
    }
   ],
   "source": [
    "from selenium import webdriver\n",
    "from selenium.webdriver.chrome.options import Options\n",
    "DRIVER_PATH = \"E:\\Setups\\chromedriver_win32\\chromedriver.exe\" #Change for your computer\n",
    "options = Options()\n",
    "options.headless = True\n",
    "options.add_argument(\"--window-size=1920,1200\")\n",
    "driver = webdriver.Chrome(options=options, executable_path=DRIVER_PATH)\n",
    "driver.get(URL)\n",
    "doc = BeautifulSoup(driver.page_source,\"html5lib\")\n"
   ]
  },
  {
   "cell_type": "code",
   "execution_count": 103,
   "metadata": {},
   "outputs": [
    {
     "data": {
      "text/plain": [
       "'https://m.media-amazon.com/images/I/51dxMhO9Z9L._UX679_.jpg'"
      ]
     },
     "execution_count": 103,
     "metadata": {},
     "output_type": "execute_result"
    }
   ],
   "source": [
    "doc.findAll(\"img\", {\"class\": \"a-dynamic-image a-stretch-horizontal\"})[0]['src']"
   ]
  },
  {
   "cell_type": "code",
   "execution_count": 106,
   "metadata": {},
   "outputs": [],
   "source": [
    "URL = \"https://www.amazon.in/Ethnic-Factory-Cotton-Bottle-Medium/dp/B096M1QVRW/ref=sr_1_1_sspa?crid=I28K5SS853SY&keywords=kurta&qid=1687692175&sprefix=kurta%2Caps%2C296&sr=8-1-spons&sp_csd=d2lkZ2V0TmFtZT1zcF9hdGY&psc=1\""
   ]
  },
  {
   "cell_type": "code",
   "execution_count": 107,
   "metadata": {},
   "outputs": [
    {
     "name": "stderr",
     "output_type": "stream",
     "text": [
      "C:\\Users\\Asus\\AppData\\Local\\Temp\\ipykernel_15368\\3447012643.py:6: DeprecationWarning: headless property is deprecated, instead use add_argument('--headless') or add_argument('--headless=new')\n",
      "  options.headless = True\n",
      "C:\\Users\\Asus\\AppData\\Local\\Temp\\ipykernel_15368\\3447012643.py:8: DeprecationWarning: executable_path has been deprecated, please pass in a Service object\n",
      "  driver = webdriver.Chrome(options=options, executable_path=DRIVER_PATH)\n"
     ]
    },
    {
     "data": {
      "text/plain": [
       "'https://m.media-amazon.com/images/I/71tX6d2YKwS._UX679_.jpg'"
      ]
     },
     "execution_count": 107,
     "metadata": {},
     "output_type": "execute_result"
    }
   ],
   "source": [
    "extract_link_amazon(URL)"
   ]
  },
  {
   "cell_type": "code",
   "execution_count": 108,
   "metadata": {},
   "outputs": [],
   "source": [
    "def extract_link(url):\n",
    "    if 'flipkart' in url:\n",
    "        return extract_link_flipkart(url)\n",
    "    if 'myntra' in url:\n",
    "        return extract_link_myntra(url)\n",
    "    if 'amazon' in url:\n",
    "        return extract_link_amazon(url)\n",
    "    return \"Link Not from Flipkart, Myntra or Amazon\""
   ]
  },
  {
   "cell_type": "code",
   "execution_count": 111,
   "metadata": {},
   "outputs": [
    {
     "data": {
      "text/plain": [
       "'https://rukminim1.flixcart.com/image/832/832/xif0q/sweatshirt/e/u/x/xl-crop-bts-hoodie-adam-white-original-imaghygyudghsfue.jpeg?q=70'"
      ]
     },
     "execution_count": 111,
     "metadata": {},
     "output_type": "execute_result"
    }
   ],
   "source": [
    "u = input()\n",
    "extract_link(u)"
   ]
  }
 ],
 "metadata": {
  "kernelspec": {
   "display_name": "deep",
   "language": "python",
   "name": "python3"
  },
  "language_info": {
   "codemirror_mode": {
    "name": "ipython",
    "version": 3
   },
   "file_extension": ".py",
   "mimetype": "text/x-python",
   "name": "python",
   "nbconvert_exporter": "python",
   "pygments_lexer": "ipython3",
   "version": "3.9.15"
  },
  "orig_nbformat": 4
 },
 "nbformat": 4,
 "nbformat_minor": 2
}
